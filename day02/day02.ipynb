{
 "cells": [
  {
   "cell_type": "code",
   "execution_count": 83,
   "metadata": {},
   "outputs": [
    {
     "data": {
      "text/html": [
       "<div>\n",
       "<style scoped>\n",
       "    .dataframe tbody tr th:only-of-type {\n",
       "        vertical-align: middle;\n",
       "    }\n",
       "\n",
       "    .dataframe tbody tr th {\n",
       "        vertical-align: top;\n",
       "    }\n",
       "\n",
       "    .dataframe thead th {\n",
       "        text-align: right;\n",
       "    }\n",
       "</style>\n",
       "<table border=\"1\" class=\"dataframe\">\n",
       "  <thead>\n",
       "    <tr style=\"text-align: right;\">\n",
       "      <th></th>\n",
       "      <th>pass</th>\n",
       "    </tr>\n",
       "  </thead>\n",
       "  <tbody>\n",
       "    <tr>\n",
       "      <th>0</th>\n",
       "      <td>4-5 r: rrrjr</td>\n",
       "    </tr>\n",
       "    <tr>\n",
       "      <th>1</th>\n",
       "      <td>9-10 x: pxcbpxxwkqjttx</td>\n",
       "    </tr>\n",
       "    <tr>\n",
       "      <th>2</th>\n",
       "      <td>8-13 b: rjbbbbvgrbrfjx</td>\n",
       "    </tr>\n",
       "    <tr>\n",
       "      <th>3</th>\n",
       "      <td>3-5 d: dtddsdddddsddddddwd</td>\n",
       "    </tr>\n",
       "    <tr>\n",
       "      <th>4</th>\n",
       "      <td>3-11 q: qbqsqqzqqxkmbqx</td>\n",
       "    </tr>\n",
       "    <tr>\n",
       "      <th>...</th>\n",
       "      <td>...</td>\n",
       "    </tr>\n",
       "    <tr>\n",
       "      <th>995</th>\n",
       "      <td>10-14 r: qskrrvvzclrrvztrdkrh</td>\n",
       "    </tr>\n",
       "    <tr>\n",
       "      <th>996</th>\n",
       "      <td>4-13 c: wccwcccbccccrccc</td>\n",
       "    </tr>\n",
       "    <tr>\n",
       "      <th>997</th>\n",
       "      <td>11-14 l: wlqzllcljjtqglbhl</td>\n",
       "    </tr>\n",
       "    <tr>\n",
       "      <th>998</th>\n",
       "      <td>17-19 b: bbbbbbbbbbbbbbbbbbq</td>\n",
       "    </tr>\n",
       "    <tr>\n",
       "      <th>999</th>\n",
       "      <td>3-5 x: xxqxm</td>\n",
       "    </tr>\n",
       "  </tbody>\n",
       "</table>\n",
       "<p>1000 rows × 1 columns</p>\n",
       "</div>"
      ],
      "text/plain": [
       "                              pass\n",
       "0                     4-5 r: rrrjr\n",
       "1           9-10 x: pxcbpxxwkqjttx\n",
       "2           8-13 b: rjbbbbvgrbrfjx\n",
       "3       3-5 d: dtddsdddddsddddddwd\n",
       "4          3-11 q: qbqsqqzqqxkmbqx\n",
       "..                             ...\n",
       "995  10-14 r: qskrrvvzclrrvztrdkrh\n",
       "996       4-13 c: wccwcccbccccrccc\n",
       "997     11-14 l: wlqzllcljjtqglbhl\n",
       "998   17-19 b: bbbbbbbbbbbbbbbbbbq\n",
       "999                   3-5 x: xxqxm\n",
       "\n",
       "[1000 rows x 1 columns]"
      ]
     },
     "execution_count": 83,
     "metadata": {},
     "output_type": "execute_result"
    }
   ],
   "source": [
    "import pandas as pd\n",
    "data = pd.read_csv(\"passwords.txt\", names = [\"pass\"])\n",
    "data"
   ]
  },
  {
   "cell_type": "markdown",
   "metadata": {},
   "source": [
    "#### given letter must occur at least x times at most y times for \"x-y: pass\" input"
   ]
  },
  {
   "cell_type": "code",
   "execution_count": 70,
   "metadata": {},
   "outputs": [
    {
     "name": "stdout",
     "output_type": "stream",
     "text": [
      "398\n"
     ]
    }
   ],
   "source": [
    "count = 0\n",
    "for x in data[\"pass\"]:\n",
    "    least = x.split('-')[0]\n",
    "    most = x.split('-', 1)[1].split(\" \")[0]\n",
    "    letter = x.split(' ', 1)[1].split(\":\")[0]\n",
    "    p = x.split(':', 1)[1]\n",
    "    c = p.count(letter)\n",
    "    \n",
    "    if c >= int(least) and c <= int(most):\n",
    "        count += 1\n",
    "        \n",
    "print(count)"
   ]
  },
  {
   "cell_type": "markdown",
   "metadata": {},
   "source": [
    "#### first 2 values are positions, exactly one must be the letter"
   ]
  },
  {
   "cell_type": "code",
   "execution_count": 88,
   "metadata": {},
   "outputs": [
    {
     "name": "stdout",
     "output_type": "stream",
     "text": [
      "562\n"
     ]
    }
   ],
   "source": [
    "count = 0\n",
    "for x in data[\"pass\"]:\n",
    "    pos1 = int(x.split('-')[0])\n",
    "    pos2 = int(x.split('-', 1)[1].split(\" \")[0])\n",
    "    letter = x.split(' ', 1)[1].split(\":\")[0]\n",
    "    p = x.split(':', 1)[1].strip()\n",
    "    \n",
    "    a = (p[pos1 - 1] == letter)\n",
    "    b = (p[pos2 - 1] == letter)\n",
    "    \n",
    "    if (a ^ b):\n",
    "        count += 1\n",
    "    \n",
    "print(count)"
   ]
  },
  {
   "cell_type": "code",
   "execution_count": null,
   "metadata": {},
   "outputs": [],
   "source": []
  }
 ],
 "metadata": {
  "kernelspec": {
   "display_name": "Python 3",
   "language": "python",
   "name": "python3"
  },
  "language_info": {
   "codemirror_mode": {
    "name": "ipython",
    "version": 3
   },
   "file_extension": ".py",
   "mimetype": "text/x-python",
   "name": "python",
   "nbconvert_exporter": "python",
   "pygments_lexer": "ipython3",
   "version": "3.8.2"
  }
 },
 "nbformat": 4,
 "nbformat_minor": 4
}
