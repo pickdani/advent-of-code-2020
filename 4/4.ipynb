{
 "cells": [
  {
   "cell_type": "code",
   "execution_count": 2,
   "metadata": {},
   "outputs": [],
   "source": [
    "file1 = open('input.txt', 'r') \n",
    "lines = file1.readlines()"
   ]
  },
  {
   "cell_type": "code",
   "execution_count": 3,
   "metadata": {},
   "outputs": [],
   "source": [
    "valid = 0\n",
    "curr = \"\"\n",
    "for x in lines:\n",
    "    if x == \"\\n\":\n",
    "        if (curr.find(\"byr\") != -1 and curr.find(\"iyr\") != -1 and curr.find(\"eyr\") != -1 and curr.find(\"hgt\") != -1 and curr.find(\"hcl\") != -1 and curr.find(\"ecl\") != -1 and curr.find(\"pid\") != -1 and curr.find(\"cid\") != -1) or (curr.find(\"byr\") != -1 and curr.find(\"iyr\") != -1 and curr.find(\"eyr\") != -1 and curr.find(\"hgt\") != -1 and curr.find(\"hcl\") != -1 and curr.find(\"ecl\") != -1 and curr.find(\"pid\") != -1 and curr.find(\"cid\") == -1):\n",
    "            valid += 1\n",
    "        curr = \"\"\n",
    "    else:\n",
    "        for data in x.split(\" \"):\n",
    "            key,val = data.split(\":\")\n",
    "            val = val.strip()\n",
    "            if key == \"byr\":\n",
    "                val = int(val)\n",
    "                if val >= 1920 and val <= 2002:\n",
    "                    curr += data\n",
    "            if key == \"iyr\":\n",
    "                val = int(val)\n",
    "                if val >= 2010 and val <= 2020:\n",
    "                    curr+= data\n",
    "            if key == \"eyr\":\n",
    "                val = int(val)\n",
    "                if val >= 2020 and val <= 2030:\n",
    "                    curr+= data\n",
    "            if key == \"hgt\":\n",
    "                num = val[0:len(val)-2]\n",
    "                if num.isdigit():\n",
    "                    num = int(num)\n",
    "                    end = val[-2] + val[-1]\n",
    "                    if end == \"cm\":\n",
    "                        if num >= 150 and num <= 193:\n",
    "                            curr += data\n",
    "                    if end == \"in\":\n",
    "                        if num >= 59 and num <= 76:\n",
    "                            curr += data\n",
    "            if key == \"hcl\":\n",
    "                if len(val) == 7:\n",
    "                    want = [\"a\",\"b\",\"c\",\"d\",\"e\",\"f\"]\n",
    "                    want2 = [0,1,2,3,4,5,6,7,8,9]\n",
    "                    if val[0] == \"#\":\n",
    "                        validhex = True\n",
    "                        for xx in val[1:]:\n",
    "                            if (xx not in want) and (int(xx) not in want2):\n",
    "                                validhex = False\n",
    "                        if validhex:\n",
    "                            curr += data\n",
    "            if key == \"ecl\":\n",
    "                valcol = [\"amb\", \"blu\", \"brn\", \"gry\", \"grn\", \"hzl\", \"oth\"]\n",
    "                if val in valcol:\n",
    "                    curr += data\n",
    "            if key == \"pid\":\n",
    "                if len(val) == 9 and val.isdigit():\n",
    "                    curr += data\n",
    "            if key == \"cid\":\n",
    "                curr += data\n",
    "            "
   ]
  },
  {
   "cell_type": "code",
   "execution_count": 4,
   "metadata": {},
   "outputs": [
    {
     "data": {
      "text/plain": [
       "121"
      ]
     },
     "execution_count": 4,
     "metadata": {},
     "output_type": "execute_result"
    }
   ],
   "source": [
    "valid"
   ]
  },
  {
   "cell_type": "code",
   "execution_count": null,
   "metadata": {},
   "outputs": [],
   "source": []
  }
 ],
 "metadata": {
  "kernelspec": {
   "display_name": "Python 3",
   "language": "python",
   "name": "python3"
  },
  "language_info": {
   "codemirror_mode": {
    "name": "ipython",
    "version": 3
   },
   "file_extension": ".py",
   "mimetype": "text/x-python",
   "name": "python",
   "nbconvert_exporter": "python",
   "pygments_lexer": "ipython3",
   "version": "3.8.2"
  }
 },
 "nbformat": 4,
 "nbformat_minor": 4
}
