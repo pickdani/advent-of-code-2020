{
 "cells": [
  {
   "cell_type": "code",
   "execution_count": 64,
   "metadata": {},
   "outputs": [],
   "source": [
    "file1 = open('input', 'r') \n",
    "lines = file1.readlines()\n",
    "[lines[x].strip() for x in range(len(lines))]\n",
    "lines.append(\"\\n\")"
   ]
  },
  {
   "cell_type": "code",
   "execution_count": 67,
   "metadata": {},
   "outputs": [
    {
     "data": {
      "text/plain": [
       "6763"
      ]
     },
     "execution_count": 67,
     "metadata": {},
     "output_type": "execute_result"
    }
   ],
   "source": [
    "count = 0\n",
    "c = []\n",
    "for line in lines:\n",
    "    if line == \"\\n\":\n",
    "        count += len(c)\n",
    "        c = []\n",
    "    else:\n",
    "        for x in line:\n",
    "            if x not in c and x != \"\\n\":\n",
    "                c.append(x)\n",
    "    \n",
    "count"
   ]
  },
  {
   "cell_type": "code",
   "execution_count": 85,
   "metadata": {},
   "outputs": [
    {
     "data": {
      "text/plain": [
       "3512"
      ]
     },
     "execution_count": 85,
     "metadata": {},
     "output_type": "execute_result"
    }
   ],
   "source": [
    "count = 0\n",
    "c = []\n",
    "p = 0\n",
    "for line in lines:\n",
    "    if line == \"\\n\":\n",
    "        for xx in c:\n",
    "            if c.count(xx) == p:\n",
    "                count += 1\n",
    "                c = list(filter(lambda a: a != xx, c))\n",
    "        c = []\n",
    "        p = 0\n",
    "    else:\n",
    "        p += 1\n",
    "        for x in line:\n",
    "            if x != \"\\n\":\n",
    "                c.append(x)\n",
    "                \n",
    "count"
   ]
  },
  {
   "cell_type": "code",
   "execution_count": null,
   "metadata": {},
   "outputs": [],
   "source": [
    "set([1,2,3,3,4])"
   ]
  },
  {
   "cell_type": "code",
   "execution_count": null,
   "metadata": {},
   "outputs": [],
   "source": []
  }
 ],
 "metadata": {
  "kernelspec": {
   "display_name": "Python 3",
   "language": "python",
   "name": "python3"
  },
  "language_info": {
   "codemirror_mode": {
    "name": "ipython",
    "version": 3
   },
   "file_extension": ".py",
   "mimetype": "text/x-python",
   "name": "python",
   "nbconvert_exporter": "python",
   "pygments_lexer": "ipython3",
   "version": "3.8.2"
  }
 },
 "nbformat": 4,
 "nbformat_minor": 4
}
