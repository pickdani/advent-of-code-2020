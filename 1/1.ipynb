{
 "cells": [
  {
   "cell_type": "code",
   "execution_count": 23,
   "metadata": {},
   "outputs": [
    {
     "data": {
      "text/plain": [
       "0      1511\n",
       "1      1344\n",
       "2      1925\n",
       "3      1970\n",
       "4      1864\n",
       "       ... \n",
       "195    1981\n",
       "196    1711\n",
       "197    1905\n",
       "198    1625\n",
       "199    1968\n",
       "Name: val, Length: 200, dtype: int64"
      ]
     },
     "execution_count": 23,
     "metadata": {},
     "output_type": "execute_result"
    }
   ],
   "source": [
    "import pandas as pd\n",
    "expenses = pd.read_csv(\"input\", names = [\"val\"])\n",
    "nums = expenses['val']\n",
    "nums"
   ]
  },
  {
   "cell_type": "markdown",
   "metadata": {},
   "source": [
    "**Find the two entries that sum to 2020**"
   ]
  },
  {
   "cell_type": "code",
   "execution_count": 25,
   "metadata": {},
   "outputs": [
    {
     "name": "stdout",
     "output_type": "stream",
     "text": [
      "445536\n"
     ]
    }
   ],
   "source": [
    "def twoSum():\n",
    "    for x in nums:\n",
    "        for y in nums:\n",
    "            if x + y == 2020:\n",
    "                return(x,y)\n",
    "a, b = twoSum()\n",
    "print(a * b)"
   ]
  },
  {
   "cell_type": "markdown",
   "metadata": {},
   "source": [
    "**Find the three entries that sum to 2020**"
   ]
  },
  {
   "cell_type": "code",
   "execution_count": 27,
   "metadata": {},
   "outputs": [
    {
     "name": "stdout",
     "output_type": "stream",
     "text": [
      "138688160\n"
     ]
    }
   ],
   "source": [
    "# too lazy to optimize so O(n^3)\n",
    "def findThree():\n",
    "    for x in nums:\n",
    "        for y in nums:\n",
    "            for z in nums:\n",
    "                if x + y + z == 2020:\n",
    "                    return(x,y,z);\n",
    "a,b,c = findThree()\n",
    "print(a * b * c)"
   ]
  },
  {
   "cell_type": "code",
   "execution_count": null,
   "metadata": {},
   "outputs": [],
   "source": []
  }
 ],
 "metadata": {
  "kernelspec": {
   "display_name": "Python 3",
   "language": "python",
   "name": "python3"
  },
  "language_info": {
   "codemirror_mode": {
    "name": "ipython",
    "version": 3
   },
   "file_extension": ".py",
   "mimetype": "text/x-python",
   "name": "python",
   "nbconvert_exporter": "python",
   "pygments_lexer": "ipython3",
   "version": "3.8.2"
  }
 },
 "nbformat": 4,
 "nbformat_minor": 4
}
