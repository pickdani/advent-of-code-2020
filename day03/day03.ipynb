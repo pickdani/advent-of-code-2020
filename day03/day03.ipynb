{
 "cells": [
  {
   "cell_type": "code",
   "execution_count": null,
   "metadata": {},
   "outputs": [],
   "source": [
    "import pandas as pd\n",
    "data = pd.read_csv(\"input.txt\", names = [\"lines\"])\n",
    "data"
   ]
  },
  {
   "cell_type": "code",
   "execution_count": 80,
   "metadata": {},
   "outputs": [],
   "source": [
    "import numpy as np\n",
    "\n",
    "m = [[\"\" for i in range(31 * 100000)] for j in range(323)]\n",
    "\n",
    "r = 0\n",
    "c = 0\n",
    "for x in data[\"lines\"]:\n",
    "    \n",
    "    for _ in range(10000):\n",
    "        for y in x:\n",
    "            m[r][c] = y\n",
    "            c += 1\n",
    "        \n",
    "    c = 0\n",
    "    r += 1\n"
   ]
  },
  {
   "cell_type": "code",
   "execution_count": 81,
   "metadata": {},
   "outputs": [
    {
     "data": {
      "text/plain": [
       "3100000"
      ]
     },
     "execution_count": 81,
     "metadata": {},
     "output_type": "execute_result"
    }
   ],
   "source": [
    "len(m[0])"
   ]
  },
  {
   "cell_type": "code",
   "execution_count": 91,
   "metadata": {},
   "outputs": [
    {
     "data": {
      "text/plain": [
       "200"
      ]
     },
     "execution_count": 91,
     "metadata": {},
     "output_type": "execute_result"
    }
   ],
   "source": [
    "trees = 0\n",
    "r = 0\n",
    "c = 0\n",
    "while r <= 322:\n",
    "    if m[r][c] == \"#\":\n",
    "        trees += 1\n",
    "    r += 1\n",
    "    c += 3\n",
    "trees"
   ]
  },
  {
   "cell_type": "code",
   "execution_count": 92,
   "metadata": {},
   "outputs": [
    {
     "data": {
      "text/plain": [
       "66"
      ]
     },
     "execution_count": 92,
     "metadata": {},
     "output_type": "execute_result"
    }
   ],
   "source": [
    "trees = 0\n",
    "r = 0\n",
    "c = 0\n",
    "while r <= 322:\n",
    "    if m[r][c] == \"#\":\n",
    "        trees += 1\n",
    "    r += 1\n",
    "    c += 1\n",
    "trees"
   ]
  },
  {
   "cell_type": "code",
   "execution_count": 93,
   "metadata": {},
   "outputs": [
    {
     "data": {
      "text/plain": [
       "76"
      ]
     },
     "execution_count": 93,
     "metadata": {},
     "output_type": "execute_result"
    }
   ],
   "source": [
    "trees = 0\n",
    "r = 0\n",
    "c = 0\n",
    "while r <= 322:\n",
    "    if m[r][c] == \"#\":\n",
    "        trees += 1\n",
    "    r += 1\n",
    "    c += 5\n",
    "trees"
   ]
  },
  {
   "cell_type": "code",
   "execution_count": 94,
   "metadata": {},
   "outputs": [
    {
     "data": {
      "text/plain": [
       "81"
      ]
     },
     "execution_count": 94,
     "metadata": {},
     "output_type": "execute_result"
    }
   ],
   "source": [
    "trees = 0\n",
    "r = 0\n",
    "c = 0\n",
    "while r <= 322:\n",
    "    if m[r][c] == \"#\":\n",
    "        trees += 1\n",
    "    r += 1\n",
    "    c += 7\n",
    "trees"
   ]
  },
  {
   "cell_type": "code",
   "execution_count": 95,
   "metadata": {},
   "outputs": [
    {
     "data": {
      "text/plain": [
       "46"
      ]
     },
     "execution_count": 95,
     "metadata": {},
     "output_type": "execute_result"
    }
   ],
   "source": [
    "trees = 0\n",
    "r = 0\n",
    "c = 0\n",
    "while r <= 322:\n",
    "    if m[r][c] == \"#\":\n",
    "        trees += 1\n",
    "    r += 2\n",
    "    c += 1\n",
    "trees"
   ]
  },
  {
   "cell_type": "code",
   "execution_count": 96,
   "metadata": {},
   "outputs": [
    {
     "data": {
      "text/plain": [
       "3737923200"
      ]
     },
     "execution_count": 96,
     "metadata": {},
     "output_type": "execute_result"
    }
   ],
   "source": [
    "200 * 66 * 76 * 81 * 46"
   ]
  },
  {
   "cell_type": "code",
   "execution_count": null,
   "metadata": {},
   "outputs": [],
   "source": []
  }
 ],
 "metadata": {
  "kernelspec": {
   "display_name": "Python 3",
   "language": "python",
   "name": "python3"
  },
  "language_info": {
   "codemirror_mode": {
    "name": "ipython",
    "version": 3
   },
   "file_extension": ".py",
   "mimetype": "text/x-python",
   "name": "python",
   "nbconvert_exporter": "python",
   "pygments_lexer": "ipython3",
   "version": "3.8.2"
  }
 },
 "nbformat": 4,
 "nbformat_minor": 4
}
